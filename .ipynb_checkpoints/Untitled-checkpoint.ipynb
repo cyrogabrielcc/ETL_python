{
 "cells": [
  {
   "cell_type": "code",
   "execution_count": null,
   "id": "c7301e5b",
   "metadata": {},
   "outputs": [],
   "source": [
    "import pandas as pd\n",
    "import pandera as pa"
   ]
  },
  {
   "cell_type": "code",
   "execution_count": null,
   "id": "3cff5d06",
   "metadata": {},
   "outputs": [],
   "source": [
    "valores_ausentes = ['**','###!', '####', '****', '***', 'NULL']\n",
    "df = pd.read_csv('ocorrencia_2010_2020.csv', \n",
    "                 sep=\";\", \n",
    "                 parse_dates=['ocorrencia_dia'], \n",
    "                 dayfirst=True, \n",
    "                 na_values=valores_ausentes)"
   ]
  },
  {
   "cell_type": "code",
   "execution_count": null,
   "id": "0bc623e6",
   "metadata": {},
   "outputs": [],
   "source": [
    "schema = pa.DataFrameSchema(\n",
    "    columns = {\n",
    "        \"codigo_ocorrencia\": pa.Column(pa.Int, required= False),        \n",
    "        \"codigo_ocorrencia2\": pa.Column(pa.Int),        \n",
    "        \"ocorrencia_classificacao\": pa.Column(pa.String),        \n",
    "        \"ocorrencia_cidade\": pa.Column(pa.String),\n",
    "        \"ocorrencia_uf\": pa.Column(pa.String, pa.Check.str_length(2,2),nullable=True),        \n",
    "        \"ocorrencia_aerodromo\": pa.Column(pa.String,nullable=True),        \n",
    "        \"ocorrencia_dia\": pa.Column(pa.DateTime),        \n",
    "        \"ocorrencia_hora\": pa.Column(pa.String, pa.Check.str_matches(r'^([0-1]?[0-9]|[2][0-3]):([0-5][0-9])(:[0-5][0-9])?$') , nullable=True),        \n",
    "        \"total_recomendacoes\": pa.Column(pa.Int),        \n",
    "        \"codigo_ocorrencia\": pa.Column(pa.Int),        \n",
    "    }\n",
    ")\n",
    "\n",
    "schema.validate(df)"
   ]
  },
  {
   "cell_type": "code",
   "execution_count": null,
   "id": "a31e8be6",
   "metadata": {},
   "outputs": [],
   "source": [
    "#df.loc[500]"
   ]
  },
  {
   "cell_type": "code",
   "execution_count": null,
   "id": "ddcd3802",
   "metadata": {},
   "outputs": [],
   "source": [
    "#df.isna().sum()"
   ]
  },
  {
   "cell_type": "code",
   "execution_count": null,
   "id": "6ea2331c",
   "metadata": {},
   "outputs": [],
   "source": [
    "# Localizando arquivos nulo\n",
    "filtro = df.ocorrencia_uf.isnull()\n",
    "df.loc[filtro]"
   ]
  },
  {
   "cell_type": "code",
   "execution_count": null,
   "id": "e8d08450",
   "metadata": {},
   "outputs": [],
   "source": [
    "filtro = df.ocorrencia_aerodromo.isnull()\n",
    "df.loc[filtro]"
   ]
  },
  {
   "cell_type": "code",
   "execution_count": null,
   "id": "80d26523",
   "metadata": {},
   "outputs": [],
   "source": [
    "filtro = df.ocorrencia_hora.isnull()\n",
    "df.loc[filtro]"
   ]
  },
  {
   "cell_type": "code",
   "execution_count": null,
   "id": "989af8ec",
   "metadata": {},
   "outputs": [],
   "source": [
    "#ocorrencias com mais de 10 recomendações\n",
    "filtro = df.total_recomendacoes > 10\n",
    "df.loc[filtro]"
   ]
  },
  {
   "cell_type": "code",
   "execution_count": null,
   "id": "5d58684f",
   "metadata": {},
   "outputs": [],
   "source": [
    "#cidades com +10 recomendações\n",
    "filtro = df.total_recomendacoes > 10\n",
    "df.loc[filtro, ['ocorrencia_cidade', 'total_recomendacoes']]"
   ]
  },
  {
   "cell_type": "code",
   "execution_count": null,
   "id": "9afe8cbc",
   "metadata": {},
   "outputs": [],
   "source": [
    "filtro = df.ocorrencia_classificacao == 'INCIDENTE GRAVE'\n",
    "df.loc[filtro, ['ocorrencia_cidade', 'ocorrencia_classificacao']]"
   ]
  },
  {
   "cell_type": "code",
   "execution_count": null,
   "id": "d361cc84",
   "metadata": {},
   "outputs": [],
   "source": [
    "filtro = df.ocorrencia_classificacao == 'INCIDENTE GRAVE'\n",
    "filtro1 = df.ocorrencia_uf == 'RJ'\n",
    "df.loc[filtro & filtro1]"
   ]
  },
  {
   "cell_type": "code",
   "execution_count": null,
   "id": "1efb40d3",
   "metadata": {},
   "outputs": [],
   "source": [
    "#(incidente ou acidente) em SP\n",
    "filtro = df.ocorrencia_classificacao.isin(['INCIDENTE GRAVE', 'ACIDENTE'])\n",
    "filtro2 = df.ocorrencia_uf == 'SP'\n",
    "df.loc[filtro & filtro2]"
   ]
  },
  {
   "cell_type": "code",
   "execution_count": null,
   "id": "17bc7bfa",
   "metadata": {},
   "outputs": [],
   "source": [
    "#cidades cujas as ocorrencias que terminam com N -> slicing\n",
    "filtro = df.ocorrencia_cidade.str[-1] == 'N' \n",
    "df.loc[filtro]"
   ]
  },
  {
   "cell_type": "code",
   "execution_count": null,
   "id": "b730df07",
   "metadata": {},
   "outputs": [],
   "source": [
    "#método contais -> contém mon\n",
    "\n",
    "filtro = df.ocorrencia_cidade.str.contains('MON|JI')\n",
    "df.loc[filtro]"
   ]
  },
  {
   "cell_type": "code",
   "execution_count": null,
   "id": "b5aca52e",
   "metadata": {},
   "outputs": [],
   "source": [
    "#Trabalhando com datas\n",
    "filtro = (df.ocorrencia_dia.dt.year == 2020) & (df.ocorrencia_dia.dt.month ==12)\n",
    "df.loc[filtro]"
   ]
  },
  {
   "cell_type": "code",
   "execution_count": null,
   "id": "01a1a1f7",
   "metadata": {},
   "outputs": [],
   "source": [
    "df['ocorrencia_dia_hora'] = df.ocorrencia_dia.astype(str) + ' ' + df.ocorrencia_hora"
   ]
  },
  {
   "cell_type": "code",
   "execution_count": null,
   "id": "7d0008a1",
   "metadata": {},
   "outputs": [],
   "source": [
    "df"
   ]
  },
  {
   "cell_type": "code",
   "execution_count": null,
   "id": "e5d9713c",
   "metadata": {},
   "outputs": [],
   "source": [
    "#valores entre 01-01-2010 e 10-01-2010\n",
    "\n",
    "f1 = df.ocorrencia_dia_hora >= '2010-01-01 00:00:00'\n",
    "f2 = df.ocorrencia_dia_hora <= '2010-01-10 23:59:59'\n",
    "df.loc[f1 & f2]"
   ]
  },
  {
   "cell_type": "code",
   "execution_count": null,
   "id": "048c65ca",
   "metadata": {},
   "outputs": [],
   "source": [
    "df.groupby(['ocorrencia_classificacao']).codigo_ocorrencia.count()"
   ]
  },
  {
   "cell_type": "code",
   "execution_count": null,
   "id": "9e066837",
   "metadata": {
    "scrolled": true
   },
   "outputs": [],
   "source": [
    "filtro1 = df.ocorrencia_dia.dt.year == 2015\n",
    "filtro2 = df.ocorrencia_uf.isin(['RJ','SP','MG', 'ES'])\n",
    "\n",
    "df_sud_year = df.loc[filtro1 & filtro2]\n",
    "df_sud_year"
   ]
  },
  {
   "cell_type": "code",
   "execution_count": null,
   "id": "040a4576",
   "metadata": {},
   "outputs": [],
   "source": [
    "df_sud_year.groupby(['ocorrencia_uf','ocorrencia_classificacao']).size()"
   ]
  },
  {
   "cell_type": "code",
   "execution_count": null,
   "id": "c5ad4a49",
   "metadata": {},
   "outputs": [],
   "source": []
  },
  {
   "cell_type": "code",
   "execution_count": null,
   "id": "ad696be2",
   "metadata": {},
   "outputs": [],
   "source": []
  },
  {
   "cell_type": "code",
   "execution_count": null,
   "id": "48652902",
   "metadata": {},
   "outputs": [],
   "source": []
  },
  {
   "cell_type": "code",
   "execution_count": null,
   "id": "72cf2206",
   "metadata": {},
   "outputs": [],
   "source": []
  },
  {
   "cell_type": "code",
   "execution_count": null,
   "id": "686dea16",
   "metadata": {},
   "outputs": [],
   "source": []
  },
  {
   "cell_type": "code",
   "execution_count": null,
   "id": "920384ce",
   "metadata": {},
   "outputs": [],
   "source": []
  },
  {
   "cell_type": "code",
   "execution_count": null,
   "id": "61c3ef73",
   "metadata": {},
   "outputs": [],
   "source": []
  },
  {
   "cell_type": "code",
   "execution_count": null,
   "id": "e9220ac8",
   "metadata": {},
   "outputs": [],
   "source": []
  },
  {
   "cell_type": "code",
   "execution_count": null,
   "id": "1a134240",
   "metadata": {},
   "outputs": [],
   "source": []
  },
  {
   "cell_type": "code",
   "execution_count": null,
   "id": "634756b4",
   "metadata": {},
   "outputs": [],
   "source": []
  },
  {
   "cell_type": "code",
   "execution_count": null,
   "id": "69c80698",
   "metadata": {},
   "outputs": [],
   "source": []
  },
  {
   "cell_type": "code",
   "execution_count": null,
   "id": "b0ea0ac7",
   "metadata": {},
   "outputs": [],
   "source": []
  },
  {
   "cell_type": "code",
   "execution_count": null,
   "id": "7d4e977d",
   "metadata": {},
   "outputs": [],
   "source": []
  },
  {
   "cell_type": "code",
   "execution_count": null,
   "id": "e841b6d6",
   "metadata": {},
   "outputs": [],
   "source": []
  },
  {
   "cell_type": "code",
   "execution_count": null,
   "id": "79e29b53",
   "metadata": {},
   "outputs": [],
   "source": []
  },
  {
   "cell_type": "code",
   "execution_count": null,
   "id": "8cf52772",
   "metadata": {},
   "outputs": [],
   "source": []
  },
  {
   "cell_type": "code",
   "execution_count": null,
   "id": "88ef189c",
   "metadata": {},
   "outputs": [],
   "source": []
  },
  {
   "cell_type": "code",
   "execution_count": null,
   "id": "dd385f70",
   "metadata": {},
   "outputs": [],
   "source": []
  },
  {
   "cell_type": "code",
   "execution_count": null,
   "id": "38c6ccb8",
   "metadata": {},
   "outputs": [],
   "source": []
  }
 ],
 "metadata": {
  "kernelspec": {
   "display_name": "Python 3",
   "language": "python",
   "name": "python3"
  },
  "language_info": {
   "codemirror_mode": {
    "name": "ipython",
    "version": 3
   },
   "file_extension": ".py",
   "mimetype": "text/x-python",
   "name": "python",
   "nbconvert_exporter": "python",
   "pygments_lexer": "ipython3",
   "version": "3.8.8"
  }
 },
 "nbformat": 4,
 "nbformat_minor": 5
}
