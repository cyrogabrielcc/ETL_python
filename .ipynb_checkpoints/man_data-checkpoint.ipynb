{
 "cells": [
  {
   "cell_type": "code",
   "execution_count": null,
   "id": "c7301e5b",
   "metadata": {},
   "outputs": [],
   "source": [
    "import pandas as pd\n",
    "import pandera as pa"
   ]
  },
  {
   "cell_type": "code",
   "execution_count": null,
   "id": "3cff5d06",
   "metadata": {},
   "outputs": [],
   "source": [
    "valores_ausentes = ['**','###!', '####', '****', '***', 'NULL']\n",
    "df = pd.read_csv('ocorrencia_2010_2020.csv', \n",
    "                 sep=\";\", \n",
    "                 parse_dates=['ocorrencia_dia'], \n",
    "                 dayfirst=True, \n",
    "                 na_values=valores_ausentes)"
   ]
  },
  {
   "cell_type": "code",
   "execution_count": null,
   "id": "0bc623e6",
   "metadata": {},
   "outputs": [],
   "source": [
    "schema = pa.DataFrameSchema(\n",
    "    columns = {\n",
    "        \"codigo_ocorrencia\": pa.Column(pa.Int, required= False),        \n",
    "        \"codigo_ocorrencia2\": pa.Column(pa.Int),        \n",
    "        \"ocorrencia_classificacao\": pa.Column(pa.String),        \n",
    "        \"ocorrencia_cidade\": pa.Column(pa.String),\n",
    "        \"ocorrencia_uf\": pa.Column(pa.String, pa.Check.str_length(2,2),nullable=True),        \n",
    "        \"ocorrencia_aerodromo\": pa.Column(pa.String,nullable=True),        \n",
    "        \"ocorrencia_dia\": pa.Column(pa.DateTime),        \n",
    "        \"ocorrencia_hora\": pa.Column(pa.String, pa.Check.str_matches(r'^([0-1]?[0-9]|[2][0-3]):([0-5][0-9])(:[0-5][0-9])?$') , nullable=True),        \n",
    "        \"total_recomendacoes\": pa.Column(pa.Int),        \n",
    "        \"codigo_ocorrencia\": pa.Column(pa.Int),        \n",
    "    }\n",
    ")\n",
    "\n",
    "schema.validate(df)"
   ]
  },
  {
   "cell_type": "code",
   "execution_count": null,
   "id": "a31e8be6",
   "metadata": {},
   "outputs": [],
   "source": [
    "#df.loc[500]"
   ]
  },
  {
   "cell_type": "code",
   "execution_count": null,
   "id": "ddcd3802",
   "metadata": {},
   "outputs": [],
   "source": [
    "#df.isna().sum()"
   ]
  },
  {
   "cell_type": "code",
   "execution_count": null,
   "id": "6ea2331c",
   "metadata": {},
   "outputs": [],
   "source": [
    "# Localizando arquivos nulo\n",
    "filtro = df.ocorrencia_uf.isnull()\n",
    "df.loc[filtro]"
   ]
  },
  {
   "cell_type": "code",
   "execution_count": null,
   "id": "e8d08450",
   "metadata": {},
   "outputs": [],
   "source": [
    "filtro = df.ocorrencia_aerodromo.isnull()\n",
    "df.loc[filtro]"
   ]
  },
  {
   "cell_type": "code",
   "execution_count": null,
   "id": "80d26523",
   "metadata": {},
   "outputs": [],
   "source": [
    "filtro = df.ocorrencia_hora.isnull()\n",
    "df.loc[filtro]"
   ]
  },
  {
   "cell_type": "code",
   "execution_count": null,
   "id": "989af8ec",
   "metadata": {},
   "outputs": [],
   "source": [
    "#ocorrencias com mais de 10 recomendações\n",
    "filtro = df.total_recomendacoes > 10\n",
    "df.loc[filtro]"
   ]
  },
  {
   "cell_type": "code",
   "execution_count": null,
   "id": "5d58684f",
   "metadata": {},
   "outputs": [],
   "source": [
    "#cidades com +10 recomendações\n",
    "filtro = df.total_recomendacoes > 10\n",
    "df.loc[filtro, ['ocorrencia_cidade', 'total_recomendacoes']]"
   ]
  },
  {
   "cell_type": "code",
   "execution_count": null,
   "id": "9afe8cbc",
   "metadata": {},
   "outputs": [],
   "source": [
    "filtro = df.ocorrencia_classificacao == 'INCIDENTE GRAVE'\n",
    "df.loc[filtro, ['ocorrencia_cidade', 'ocorrencia_classificacao']]"
   ]
  },
  {
   "cell_type": "code",
   "execution_count": null,
   "id": "d361cc84",
   "metadata": {},
   "outputs": [],
   "source": [
    "filtro = df.ocorrencia_classificacao == 'INCIDENTE GRAVE'\n",
    "filtro1 = df.ocorrencia_uf == 'RJ'\n",
    "df.loc[filtro & filtro1]"
   ]
  },
  {
   "cell_type": "code",
   "execution_count": null,
   "id": "1efb40d3",
   "metadata": {},
   "outputs": [],
   "source": [
    "#(incidente ou acidente) em SP\n",
    "filtro = df.ocorrencia_classificacao.isin(['INCIDENTE GRAVE', 'ACIDENTE'])\n",
    "filtro2 = df.ocorrencia_uf == 'SP'\n",
    "df.loc[filtro & filtro2]"
   ]
  },
  {
   "cell_type": "code",
   "execution_count": null,
   "id": "4a70f1f3",
   "metadata": {},
   "outputs": [],
   "source": [
    "#cidades cujas as ocorrencias que terminam com N -> slicing\n",
    "filtro = df.ocorrencia_cidade.str[-1] == 'N' \n",
    "df.loc[filtro]"
   ]
  },
  {
   "cell_type": "code",
   "execution_count": null,
   "id": "61257dfc",
   "metadata": {},
   "outputs": [],
   "source": [
    "#método contais -> contém mon\n",
    "\n",
    "filtro = df.ocorrencia_cidade.str.contains('MON|JI')\n",
    "df.loc[filtro]"
   ]
  },
  {
   "cell_type": "code",
   "execution_count": null,
   "id": "8299613f",
   "metadata": {},
   "outputs": [],
   "source": [
    "#Trabalhando com datas\n",
    "filtro = (df.ocorrencia_dia.dt.year == 2020) & (df.ocorrencia_dia.dt.month ==12)\n",
    "df.loc[filtro]"
   ]
  },
  {
   "cell_type": "code",
   "execution_count": null,
   "id": "cd6ec396",
   "metadata": {},
   "outputs": [],
   "source": [
    "df['ocorrencia_dia_hora'] = df.ocorrencia_dia.astype(str) + ' ' + df.ocorrencia_hora"
   ]
  },
  {
   "cell_type": "code",
   "execution_count": null,
   "id": "889027b4",
   "metadata": {},
   "outputs": [],
   "source": [
    "df"
   ]
  },
  {
   "cell_type": "code",
   "execution_count": null,
   "id": "085970f6",
   "metadata": {},
   "outputs": [],
   "source": [
    "#valores entre 01-01-2010 e 10-01-2010\n",
    "\n",
    "f1 = df.ocorrencia_dia_hora >= '2010-01-01 00:00:00'\n",
    "f2 = df.ocorrencia_dia_hora <= '2010-01-10 23:59:59'\n",
    "df.loc[f1 & f2]"
   ]
  },
  {
   "cell_type": "code",
   "execution_count": null,
   "id": "646c474c",
   "metadata": {},
   "outputs": [],
   "source": [
    "df.groupby(['ocorrencia_classificacao']).codigo_ocorrencia.count()"
   ]
  },
  {
   "cell_type": "code",
   "execution_count": null,
   "id": "950557bf",
   "metadata": {
    "scrolled": true
   },
   "outputs": [],
   "source": [
    "filtro1 = df.ocorrencia_dia.dt.year == 2015\n",
    "filtro2 = df.ocorrencia_uf.isin(['RJ','SP','MG', 'ES'])\n",
    "\n",
    "df_sud_year = df.loc[filtro1 & filtro2]\n",
    "df_sud_year"
   ]
  },
  {
   "cell_type": "code",
   "execution_count": null,
   "id": "d0014cb8",
   "metadata": {},
   "outputs": [],
   "source": [
    "df_sud_year.groupby(['ocorrencia_uf','ocorrencia_classificacao']).size()"
   ]
  },
  {
   "cell_type": "code",
   "execution_count": null,
   "id": "f23fdde5",
   "metadata": {},
   "outputs": [],
   "source": []
  },
  {
   "cell_type": "code",
   "execution_count": null,
   "id": "1c77b2de",
   "metadata": {},
   "outputs": [],
   "source": []
  },
  {
   "cell_type": "code",
   "execution_count": null,
   "id": "58aed3e9",
   "metadata": {},
   "outputs": [],
   "source": []
  },
  {
   "cell_type": "code",
   "execution_count": null,
   "id": "64035589",
   "metadata": {},
   "outputs": [],
   "source": []
  },
  {
   "cell_type": "code",
   "execution_count": null,
   "id": "b0de470c",
   "metadata": {},
   "outputs": [],
   "source": []
  },
  {
   "cell_type": "code",
   "execution_count": null,
   "id": "305523a3",
   "metadata": {},
   "outputs": [],
   "source": []
  },
  {
   "cell_type": "code",
   "execution_count": null,
   "id": "8a9d5cfb",
   "metadata": {},
   "outputs": [],
   "source": []
  },
  {
   "cell_type": "code",
   "execution_count": null,
   "id": "3466b7cb",
   "metadata": {},
   "outputs": [],
   "source": []
  },
  {
   "cell_type": "code",
   "execution_count": null,
   "id": "863fae20",
   "metadata": {},
   "outputs": [],
   "source": []
  },
  {
   "cell_type": "code",
   "execution_count": null,
   "id": "6279600d",
   "metadata": {},
   "outputs": [],
   "source": []
  },
  {
   "cell_type": "code",
   "execution_count": null,
   "id": "7fe3f70a",
   "metadata": {},
   "outputs": [],
   "source": []
  },
  {
   "cell_type": "code",
   "execution_count": null,
   "id": "3d96a0c3",
   "metadata": {},
   "outputs": [],
   "source": []
  },
  {
   "cell_type": "code",
   "execution_count": null,
   "id": "9ac112d1",
   "metadata": {},
   "outputs": [],
   "source": []
  },
  {
   "cell_type": "code",
   "execution_count": null,
   "id": "2fce70a2",
   "metadata": {},
   "outputs": [],
   "source": []
  },
  {
   "cell_type": "code",
   "execution_count": null,
   "id": "10e1bab1",
   "metadata": {},
   "outputs": [],
   "source": []
  },
  {
   "cell_type": "code",
   "execution_count": null,
   "id": "30ddf59d",
   "metadata": {},
   "outputs": [],
   "source": []
  },
  {
   "cell_type": "code",
   "execution_count": null,
   "id": "cf9090c3",
   "metadata": {},
   "outputs": [],
   "source": []
  },
  {
   "cell_type": "code",
   "execution_count": null,
   "id": "a569be04",
   "metadata": {},
   "outputs": [],
   "source": []
  },
  {
   "cell_type": "code",
   "execution_count": null,
   "id": "e4066a64",
   "metadata": {},
   "outputs": [],
   "source": []
  }
 ],
 "metadata": {
  "kernelspec": {
   "display_name": "Python 3",
   "language": "python",
   "name": "python3"
  },
  "language_info": {
   "codemirror_mode": {
    "name": "ipython",
    "version": 3
   },
   "file_extension": ".py",
   "mimetype": "text/x-python",
   "name": "python",
   "nbconvert_exporter": "python",
   "pygments_lexer": "ipython3",
   "version": "3.8.8"
  }
 },
 "nbformat": 4,
 "nbformat_minor": 5
}
